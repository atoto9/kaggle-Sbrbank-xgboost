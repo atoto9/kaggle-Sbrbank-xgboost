{
 "cells": [
  {
   "cell_type": "code",
   "execution_count": 17,
   "metadata": {
    "collapsed": false
   },
   "outputs": [
    {
     "name": "stderr",
     "output_type": "stream",
     "text": [
      "//anaconda/lib/python3.6/site-packages/sklearn/cross_validation.py:44: DeprecationWarning: This module was deprecated in version 0.18 in favor of the model_selection module into which all the refactored classes and functions are moved. Also note that the interface of the new CV iterators are different from that of this module. This module will be removed in 0.20.\n",
      "  \"This module will be removed in 0.20.\", DeprecationWarning)\n",
      "//anaconda/lib/python3.6/site-packages/sklearn/grid_search.py:43: DeprecationWarning: This module was deprecated in version 0.18 in favor of the model_selection module into which all the refactored classes and functions are moved. This module will be removed in 0.20.\n",
      "  DeprecationWarning)\n"
     ]
    }
   ],
   "source": [
    "# data analysis and wrangling\n",
    "import pandas as pd\n",
    "import numpy as np\n",
    "\n",
    "# visualization\n",
    "import seaborn as sns\n",
    "import matplotlib.pyplot as plt\n",
    "%matplotlib inline\n",
    "from matplotlib.pylab import rcParams\n",
    "rcParams['figure.figsize'] = 12, 4\n",
    "\n",
    "\n",
    "# machine learning\n",
    "from sklearn.tree import DecisionTreeRegressor\n",
    "from sklearn.ensemble import RandomForestRegressor\n",
    "from sklearn import model_selection, preprocessing\n",
    "import xgboost as xgb\n",
    "from xgboost.sklearn import XGBRegressor\n",
    "from sklearn import cross_validation, metrics\n",
    "from sklearn.grid_search import GridSearchCV\n"
   ]
  },
  {
   "cell_type": "code",
   "execution_count": 18,
   "metadata": {
    "collapsed": false
   },
   "outputs": [
    {
     "data": {
      "text/html": [
       "<div>\n",
       "<table border=\"1\" class=\"dataframe\">\n",
       "  <thead>\n",
       "    <tr style=\"text-align: right;\">\n",
       "      <th></th>\n",
       "      <th>id</th>\n",
       "      <th>timestamp</th>\n",
       "      <th>full_sq</th>\n",
       "      <th>life_sq</th>\n",
       "      <th>floor</th>\n",
       "      <th>max_floor</th>\n",
       "      <th>material</th>\n",
       "      <th>build_year</th>\n",
       "      <th>num_room</th>\n",
       "      <th>kitch_sq</th>\n",
       "      <th>...</th>\n",
       "      <th>cafe_count_5000_price_2500</th>\n",
       "      <th>cafe_count_5000_price_4000</th>\n",
       "      <th>cafe_count_5000_price_high</th>\n",
       "      <th>big_church_count_5000</th>\n",
       "      <th>church_count_5000</th>\n",
       "      <th>mosque_count_5000</th>\n",
       "      <th>leisure_count_5000</th>\n",
       "      <th>sport_count_5000</th>\n",
       "      <th>market_count_5000</th>\n",
       "      <th>price_doc</th>\n",
       "    </tr>\n",
       "  </thead>\n",
       "  <tbody>\n",
       "    <tr>\n",
       "      <th>2516</th>\n",
       "      <td>2519</td>\n",
       "      <td>2012-06-15</td>\n",
       "      <td>33</td>\n",
       "      <td>18.0</td>\n",
       "      <td>1.0</td>\n",
       "      <td>NaN</td>\n",
       "      <td>NaN</td>\n",
       "      <td>NaN</td>\n",
       "      <td>NaN</td>\n",
       "      <td>NaN</td>\n",
       "      <td>...</td>\n",
       "      <td>16</td>\n",
       "      <td>3</td>\n",
       "      <td>0</td>\n",
       "      <td>15</td>\n",
       "      <td>30</td>\n",
       "      <td>1</td>\n",
       "      <td>10</td>\n",
       "      <td>62</td>\n",
       "      <td>14</td>\n",
       "      <td>5700000</td>\n",
       "    </tr>\n",
       "    <tr>\n",
       "      <th>7968</th>\n",
       "      <td>7971</td>\n",
       "      <td>2013-05-16</td>\n",
       "      <td>38</td>\n",
       "      <td>17.0</td>\n",
       "      <td>15.0</td>\n",
       "      <td>NaN</td>\n",
       "      <td>NaN</td>\n",
       "      <td>NaN</td>\n",
       "      <td>NaN</td>\n",
       "      <td>NaN</td>\n",
       "      <td>...</td>\n",
       "      <td>2</td>\n",
       "      <td>1</td>\n",
       "      <td>0</td>\n",
       "      <td>2</td>\n",
       "      <td>7</td>\n",
       "      <td>1</td>\n",
       "      <td>0</td>\n",
       "      <td>20</td>\n",
       "      <td>3</td>\n",
       "      <td>5500000</td>\n",
       "    </tr>\n",
       "    <tr>\n",
       "      <th>5525</th>\n",
       "      <td>5528</td>\n",
       "      <td>2012-12-27</td>\n",
       "      <td>58</td>\n",
       "      <td>NaN</td>\n",
       "      <td>19.0</td>\n",
       "      <td>NaN</td>\n",
       "      <td>NaN</td>\n",
       "      <td>NaN</td>\n",
       "      <td>NaN</td>\n",
       "      <td>NaN</td>\n",
       "      <td>...</td>\n",
       "      <td>1</td>\n",
       "      <td>1</td>\n",
       "      <td>0</td>\n",
       "      <td>1</td>\n",
       "      <td>7</td>\n",
       "      <td>0</td>\n",
       "      <td>0</td>\n",
       "      <td>6</td>\n",
       "      <td>0</td>\n",
       "      <td>5298383</td>\n",
       "    </tr>\n",
       "  </tbody>\n",
       "</table>\n",
       "<p>3 rows × 292 columns</p>\n",
       "</div>"
      ],
      "text/plain": [
       "        id   timestamp  full_sq  life_sq  floor  max_floor  material  \\\n",
       "2516  2519  2012-06-15       33     18.0    1.0        NaN       NaN   \n",
       "7968  7971  2013-05-16       38     17.0   15.0        NaN       NaN   \n",
       "5525  5528  2012-12-27       58      NaN   19.0        NaN       NaN   \n",
       "\n",
       "      build_year  num_room  kitch_sq    ...      cafe_count_5000_price_2500  \\\n",
       "2516         NaN       NaN       NaN    ...                              16   \n",
       "7968         NaN       NaN       NaN    ...                               2   \n",
       "5525         NaN       NaN       NaN    ...                               1   \n",
       "\n",
       "     cafe_count_5000_price_4000 cafe_count_5000_price_high  \\\n",
       "2516                          3                          0   \n",
       "7968                          1                          0   \n",
       "5525                          1                          0   \n",
       "\n",
       "      big_church_count_5000  church_count_5000  mosque_count_5000  \\\n",
       "2516                     15                 30                  1   \n",
       "7968                      2                  7                  1   \n",
       "5525                      1                  7                  0   \n",
       "\n",
       "      leisure_count_5000  sport_count_5000  market_count_5000  price_doc  \n",
       "2516                  10                62                 14    5700000  \n",
       "7968                   0                20                  3    5500000  \n",
       "5525                   0                 6                  0    5298383  \n",
       "\n",
       "[3 rows x 292 columns]"
      ]
     },
     "execution_count": 18,
     "metadata": {},
     "output_type": "execute_result"
    }
   ],
   "source": [
    "train_df = pd.read_csv('train.csv')\n",
    "test_df = pd.read_csv('test.csv')\n",
    "macro = pd.read_csv('macro.csv')\n",
    "id_test = test_df.id\n",
    "train_df.sample(3)\n",
    "#train_df.head()"
   ]
  },
  {
   "cell_type": "code",
   "execution_count": 19,
   "metadata": {
    "collapsed": false,
    "scrolled": true
   },
   "outputs": [
    {
     "name": "stdout",
     "output_type": "stream",
     "text": [
      "['id' 'timestamp' 'full_sq' 'life_sq' 'floor' 'max_floor' 'material'\n",
      " 'build_year' 'num_room' 'kitch_sq' 'state' 'product_type' 'sub_area'\n",
      " 'area_m' 'raion_popul' 'green_zone_part' 'indust_part'\n",
      " 'children_preschool' 'preschool_quota' 'preschool_education_centers_raion'\n",
      " 'children_school' 'school_quota' 'school_education_centers_raion'\n",
      " 'school_education_centers_top_20_raion' 'hospital_beds_raion'\n",
      " 'healthcare_centers_raion' 'university_top_20_raion' 'sport_objects_raion'\n",
      " 'additional_education_raion' 'culture_objects_top_25'\n",
      " 'culture_objects_top_25_raion' 'shopping_centers_raion' 'office_raion'\n",
      " 'thermal_power_plant_raion' 'incineration_raion' 'oil_chemistry_raion'\n",
      " 'radiation_raion' 'railroad_terminal_raion' 'big_market_raion'\n",
      " 'nuclear_reactor_raion' 'detention_facility_raion' 'full_all' 'male_f'\n",
      " 'female_f' 'young_all' 'young_male' 'young_female' 'work_all' 'work_male'\n",
      " 'work_female' 'ekder_all' 'ekder_male' 'ekder_female' '0_6_all' '0_6_male'\n",
      " '0_6_female' '7_14_all' '7_14_male' '7_14_female' '0_17_all' '0_17_male'\n",
      " '0_17_female' '16_29_all' '16_29_male' '16_29_female' '0_13_all'\n",
      " '0_13_male' '0_13_female' 'raion_build_count_with_material_info'\n",
      " 'build_count_block' 'build_count_wood' 'build_count_frame'\n",
      " 'build_count_brick' 'build_count_monolith' 'build_count_panel'\n",
      " 'build_count_foam' 'build_count_slag' 'build_count_mix'\n",
      " 'raion_build_count_with_builddate_info' 'build_count_before_1920'\n",
      " 'build_count_1921-1945' 'build_count_1946-1970' 'build_count_1971-1995'\n",
      " 'build_count_after_1995' 'ID_metro' 'metro_min_avto' 'metro_km_avto'\n",
      " 'metro_min_walk' 'metro_km_walk' 'kindergarten_km' 'school_km' 'park_km'\n",
      " 'green_zone_km' 'industrial_km' 'water_treatment_km' 'cemetery_km'\n",
      " 'incineration_km' 'railroad_station_walk_km' 'railroad_station_walk_min'\n",
      " 'ID_railroad_station_walk' 'railroad_station_avto_km'\n",
      " 'railroad_station_avto_min' 'ID_railroad_station_avto'\n",
      " 'public_transport_station_km' 'public_transport_station_min_walk'\n",
      " 'water_km' 'water_1line' 'mkad_km' 'ttk_km' 'sadovoe_km' 'bulvar_ring_km'\n",
      " 'kremlin_km' 'big_road1_km' 'ID_big_road1' 'big_road1_1line'\n",
      " 'big_road2_km' 'ID_big_road2' 'railroad_km' 'railroad_1line'\n",
      " 'zd_vokzaly_avto_km' 'ID_railroad_terminal' 'bus_terminal_avto_km'\n",
      " 'ID_bus_terminal' 'oil_chemistry_km' 'nuclear_reactor_km' 'radiation_km'\n",
      " 'power_transmission_line_km' 'thermal_power_plant_km' 'ts_km'\n",
      " 'big_market_km' 'market_shop_km' 'fitness_km' 'swim_pool_km' 'ice_rink_km'\n",
      " 'stadium_km' 'basketball_km' 'hospice_morgue_km' 'detention_facility_km'\n",
      " 'public_healthcare_km' 'university_km' 'workplaces_km'\n",
      " 'shopping_centers_km' 'office_km' 'additional_education_km' 'preschool_km'\n",
      " 'big_church_km' 'church_synagogue_km' 'mosque_km' 'theater_km' 'museum_km'\n",
      " 'exhibition_km' 'catering_km' 'ecology' 'green_part_500' 'prom_part_500'\n",
      " 'office_count_500' 'office_sqm_500' 'trc_count_500' 'trc_sqm_500'\n",
      " 'cafe_count_500' 'cafe_sum_500_min_price_avg' 'cafe_sum_500_max_price_avg'\n",
      " 'cafe_avg_price_500' 'cafe_count_500_na_price' 'cafe_count_500_price_500'\n",
      " 'cafe_count_500_price_1000' 'cafe_count_500_price_1500'\n",
      " 'cafe_count_500_price_2500' 'cafe_count_500_price_4000'\n",
      " 'cafe_count_500_price_high' 'big_church_count_500' 'church_count_500'\n",
      " 'mosque_count_500' 'leisure_count_500' 'sport_count_500'\n",
      " 'market_count_500' 'green_part_1000' 'prom_part_1000' 'office_count_1000'\n",
      " 'office_sqm_1000' 'trc_count_1000' 'trc_sqm_1000' 'cafe_count_1000'\n",
      " 'cafe_sum_1000_min_price_avg' 'cafe_sum_1000_max_price_avg'\n",
      " 'cafe_avg_price_1000' 'cafe_count_1000_na_price'\n",
      " 'cafe_count_1000_price_500' 'cafe_count_1000_price_1000'\n",
      " 'cafe_count_1000_price_1500' 'cafe_count_1000_price_2500'\n",
      " 'cafe_count_1000_price_4000' 'cafe_count_1000_price_high'\n",
      " 'big_church_count_1000' 'church_count_1000' 'mosque_count_1000'\n",
      " 'leisure_count_1000' 'sport_count_1000' 'market_count_1000'\n",
      " 'green_part_1500' 'prom_part_1500' 'office_count_1500' 'office_sqm_1500'\n",
      " 'trc_count_1500' 'trc_sqm_1500' 'cafe_count_1500'\n",
      " 'cafe_sum_1500_min_price_avg' 'cafe_sum_1500_max_price_avg'\n",
      " 'cafe_avg_price_1500' 'cafe_count_1500_na_price'\n",
      " 'cafe_count_1500_price_500' 'cafe_count_1500_price_1000'\n",
      " 'cafe_count_1500_price_1500' 'cafe_count_1500_price_2500'\n",
      " 'cafe_count_1500_price_4000' 'cafe_count_1500_price_high'\n",
      " 'big_church_count_1500' 'church_count_1500' 'mosque_count_1500'\n",
      " 'leisure_count_1500' 'sport_count_1500' 'market_count_1500'\n",
      " 'green_part_2000' 'prom_part_2000' 'office_count_2000' 'office_sqm_2000'\n",
      " 'trc_count_2000' 'trc_sqm_2000' 'cafe_count_2000'\n",
      " 'cafe_sum_2000_min_price_avg' 'cafe_sum_2000_max_price_avg'\n",
      " 'cafe_avg_price_2000' 'cafe_count_2000_na_price'\n",
      " 'cafe_count_2000_price_500' 'cafe_count_2000_price_1000'\n",
      " 'cafe_count_2000_price_1500' 'cafe_count_2000_price_2500'\n",
      " 'cafe_count_2000_price_4000' 'cafe_count_2000_price_high'\n",
      " 'big_church_count_2000' 'church_count_2000' 'mosque_count_2000'\n",
      " 'leisure_count_2000' 'sport_count_2000' 'market_count_2000'\n",
      " 'green_part_3000' 'prom_part_3000' 'office_count_3000' 'office_sqm_3000'\n",
      " 'trc_count_3000' 'trc_sqm_3000' 'cafe_count_3000'\n",
      " 'cafe_sum_3000_min_price_avg' 'cafe_sum_3000_max_price_avg'\n",
      " 'cafe_avg_price_3000' 'cafe_count_3000_na_price'\n",
      " 'cafe_count_3000_price_500' 'cafe_count_3000_price_1000'\n",
      " 'cafe_count_3000_price_1500' 'cafe_count_3000_price_2500'\n",
      " 'cafe_count_3000_price_4000' 'cafe_count_3000_price_high'\n",
      " 'big_church_count_3000' 'church_count_3000' 'mosque_count_3000'\n",
      " 'leisure_count_3000' 'sport_count_3000' 'market_count_3000'\n",
      " 'green_part_5000' 'prom_part_5000' 'office_count_5000' 'office_sqm_5000'\n",
      " 'trc_count_5000' 'trc_sqm_5000' 'cafe_count_5000'\n",
      " 'cafe_sum_5000_min_price_avg' 'cafe_sum_5000_max_price_avg'\n",
      " 'cafe_avg_price_5000' 'cafe_count_5000_na_price'\n",
      " 'cafe_count_5000_price_500' 'cafe_count_5000_price_1000'\n",
      " 'cafe_count_5000_price_1500' 'cafe_count_5000_price_2500'\n",
      " 'cafe_count_5000_price_4000' 'cafe_count_5000_price_high'\n",
      " 'big_church_count_5000' 'church_count_5000' 'mosque_count_5000'\n",
      " 'leisure_count_5000' 'sport_count_5000' 'market_count_5000' 'price_doc']\n"
     ]
    }
   ],
   "source": [
    "print(train_df.columns.values)"
   ]
  },
  {
   "cell_type": "code",
   "execution_count": 20,
   "metadata": {
    "collapsed": false,
    "scrolled": true
   },
   "outputs": [
    {
     "data": {
      "text/plain": [
       "(30471, 292)"
      ]
     },
     "execution_count": 20,
     "metadata": {},
     "output_type": "execute_result"
    }
   ],
   "source": [
    "train_df.shape"
   ]
  },
  {
   "cell_type": "code",
   "execution_count": 21,
   "metadata": {
    "collapsed": false
   },
   "outputs": [],
   "source": [
    "null_num = train_df.isnull().sum()"
   ]
  },
  {
   "cell_type": "code",
   "execution_count": 22,
   "metadata": {
    "collapsed": false
   },
   "outputs": [
    {
     "data": {
      "text/plain": [
       "pandas.core.series.Series"
      ]
     },
     "execution_count": 22,
     "metadata": {},
     "output_type": "execute_result"
    }
   ],
   "source": [
    "type(null_num)"
   ]
  },
  {
   "cell_type": "code",
   "execution_count": 23,
   "metadata": {
    "collapsed": true
   },
   "outputs": [],
   "source": [
    "#null_num.to_csv('nullnum.csv')"
   ]
  },
  {
   "cell_type": "code",
   "execution_count": 24,
   "metadata": {
    "collapsed": false
   },
   "outputs": [
    {
     "name": "stdout",
     "output_type": "stream",
     "text": [
      "<class 'pandas.core.frame.DataFrame'>\n",
      "RangeIndex: 30471 entries, 0 to 30470\n",
      "Columns: 292 entries, id to price_doc\n",
      "dtypes: float64(119), int64(157), object(16)\n",
      "memory usage: 67.9+ MB\n"
     ]
    }
   ],
   "source": [
    "train_df.info()"
   ]
  },
  {
   "cell_type": "code",
   "execution_count": 25,
   "metadata": {
    "collapsed": false
   },
   "outputs": [],
   "source": [
    "for f in train_df.columns:\n",
    "    if train_df[f].dtype=='object':\n",
    "        lbl = preprocessing.LabelEncoder()\n",
    "        lbl.fit(list(train_df[f].values)) \n",
    "        train_df[f] = lbl.transform(list(train_df[f].values))"
   ]
  },
  {
   "cell_type": "code",
   "execution_count": 26,
   "metadata": {
    "collapsed": true
   },
   "outputs": [],
   "source": [
    "#將object類型的data轉為int\n",
    "for f in test_df.columns:\n",
    "    if test_df[f].dtype=='object':\n",
    "        lbl = preprocessing.LabelEncoder()\n",
    "        lbl.fit(list(test_df[f].values)) \n",
    "        test_df[f] = lbl.transform(list(test_df[f].values))"
   ]
  },
  {
   "cell_type": "code",
   "execution_count": 27,
   "metadata": {
    "collapsed": false
   },
   "outputs": [
    {
     "name": "stdout",
     "output_type": "stream",
     "text": [
      "<class 'pandas.core.frame.DataFrame'>\n",
      "RangeIndex: 30471 entries, 0 to 30470\n",
      "Columns: 292 entries, id to price_doc\n",
      "dtypes: float64(119), int64(173)\n",
      "memory usage: 67.9 MB\n"
     ]
    }
   ],
   "source": [
    "train_df.info()"
   ]
  },
  {
   "cell_type": "code",
   "execution_count": 28,
   "metadata": {
    "collapsed": true
   },
   "outputs": [],
   "source": [
    "#from collections import Counter\n",
    "#Counter(train_df.full_sq)"
   ]
  },
  {
   "cell_type": "code",
   "execution_count": 29,
   "metadata": {
    "collapsed": true
   },
   "outputs": [],
   "source": [
    "Y_train = train_df[\"price_doc\"]\n",
    "X_train = train_df.drop([\"id\", \"timestamp\", \"price_doc\"], axis=1)\n",
    "X_test = test_df.drop([\"id\", \"timestamp\"], axis=1)"
   ]
  },
  {
   "cell_type": "code",
   "execution_count": 30,
   "metadata": {
    "collapsed": false
   },
   "outputs": [
    {
     "data": {
      "text/plain": [
       "(30471, 289)"
      ]
     },
     "execution_count": 30,
     "metadata": {},
     "output_type": "execute_result"
    }
   ],
   "source": [
    "X_train.shape"
   ]
  },
  {
   "cell_type": "code",
   "execution_count": 42,
   "metadata": {
    "collapsed": true
   },
   "outputs": [],
   "source": [
    "global num_boost_rounds"
   ]
  },
  {
   "cell_type": "code",
   "execution_count": 43,
   "metadata": {
    "collapsed": true
   },
   "outputs": [],
   "source": [
    "def modelfit(alg, X_train, Y_train, useTrainCV=True, cv_folds=5, early_stopping_rounds=50):\n",
    "    if useTrainCV:\n",
    "        xgb_param = alg.get_xgb_params()\n",
    "        xgtrain = xgb.DMatrix(X_train, Y_train)\n",
    "        cvresult = xgb.cv(xgb_param, xgtrain, num_boost_round=alg.get_params()['n_estimators'], nfold=cv_folds,\n",
    "                          metrics='rmse',verbose_eval=50, show_stdv=False, early_stopping_rounds=early_stopping_rounds)\n",
    "        #alg.set_params(n_estimators=cvresult.shape[0])\n",
    "        global num_boost_rounds\n",
    "        num_boost_rounds = len(cvresult)\n",
    "        print(num_boost_rounds)\n",
    "        cvresult[['train-rmse-mean', 'test-rmse-mean']].plot()\n",
    "        plt.show()\n",
    "        \n",
    "\n",
    "    #Fit the algorithm on the data\n",
    "#     alg.fit(X_train, Y_train, eval_metric='rmse')\n",
    "\n",
    "#     #Predict training set:\n",
    "#     dtrain_predictions = alg.predict(X_train)\n",
    "#     dtrain_predprob = alg.predict_proba(X_train)[:,1]\n",
    "\n",
    "#     #Print model report:\n",
    "#     print(\"\\nModel Report\")\n",
    "#     print(\"RMSE : %.4g\" % metrics.accuracy_score(dtrain['Disbursed'].values, dtrain_predictions))\n",
    "#     print(\"AUC Score (Train): %f\" % metrics.roc_auc_score(dtrain['Disbursed'], dtrain_predprob))\n",
    "\n",
    "#     feat_imp = pd.Series(alg.booster().get_fscore()).sort_values(ascending=False)\n",
    "#     feat_imp.plot(kind='bar', title='Feature Importances')\n",
    "#     plt.ylabel('Feature Importance Score')"
   ]
  },
  {
   "cell_type": "code",
   "execution_count": 44,
   "metadata": {
    "collapsed": false
   },
   "outputs": [
    {
     "name": "stdout",
     "output_type": "stream",
     "text": [
      "[0]\ttrain-rmse:8.19764e+06\ttest-rmse:8.20903e+06\n",
      "[50]\ttrain-rmse:2.065e+06\ttest-rmse:2.8047e+06\n",
      "[100]\ttrain-rmse:1.66532e+06\ttest-rmse:2.65816e+06\n",
      "[150]\ttrain-rmse:1.52046e+06\ttest-rmse:2.63669e+06\n",
      "[200]\ttrain-rmse:1.41866e+06\ttest-rmse:2.6317e+06\n",
      "[250]\ttrain-rmse:1.32848e+06\ttest-rmse:2.63133e+06\n",
      "242\n"
     ]
    },
    {
     "data": {
      "image/png": "[encoded data removed]",
      "text/plain": [
       "<matplotlib.figure.Figure at 0x115cb2240>"
      ]
     },
     "metadata": {},
     "output_type": "display_data"
    }
   ],
   "source": [
    "xgb1 = XGBRegressor(\n",
    " learning_rate =0.05,\n",
    " n_estimators=1000,\n",
    " max_depth=8,\n",
    " min_child_weight=1,\n",
    " gamma=0,\n",
    " subsample=0.7,\n",
    " colsample_bytree=0.7,\n",
    " nthread=4,\n",
    " scale_pos_weight=1,\n",
    " seed=27)\n",
    "modelfit(xgb1, X_train, Y_train)"
   ]
  },
  {
   "cell_type": "markdown",
   "metadata": {},
   "source": [
    "## Tune max_depth and min_child_weight"
   ]
  },
  {
   "cell_type": "code",
   "execution_count": 53,
   "metadata": {
    "collapsed": false
   },
   "outputs": [
    {
     "data": {
      "text/plain": [
       "([mean: -7977241953444.21094, std: 1393718300781.93433, params: {'max_depth': 3, 'min_child_weight': 1},\n",
       "  mean: -7981912518615.99414, std: 1424082575276.74097, params: {'max_depth': 3, 'min_child_weight': 3},\n",
       "  mean: -7984930795029.23438, std: 1436736951927.68945, params: {'max_depth': 3, 'min_child_weight': 5},\n",
       "  mean: -7634001860833.23438, std: 1491628509315.78271, params: {'max_depth': 5, 'min_child_weight': 1},\n",
       "  mean: -7590187808922.97852, std: 1512864380975.81104, params: {'max_depth': 5, 'min_child_weight': 3},\n",
       "  mean: -7591986180610.70605, std: 1596437146137.74634, params: {'max_depth': 5, 'min_child_weight': 5},\n",
       "  mean: -7589377444503.60645, std: 1516326676242.50830, params: {'max_depth': 7, 'min_child_weight': 1},\n",
       "  mean: -7522606408589.61426, std: 1518660789097.44629, params: {'max_depth': 7, 'min_child_weight': 3},\n",
       "  mean: -7523893417909.84961, std: 1585843907108.45166, params: {'max_depth': 7, 'min_child_weight': 5},\n",
       "  mean: -7684939589283.65820, std: 1455202150595.96436, params: {'max_depth': 9, 'min_child_weight': 1},\n",
       "  mean: -7699181928673.50195, std: 1471365970861.38232, params: {'max_depth': 9, 'min_child_weight': 3},\n",
       "  mean: -7539297613997.35645, std: 1484287010374.02930, params: {'max_depth': 9, 'min_child_weight': 5}],\n",
       " {'max_depth': 7, 'min_child_weight': 3},\n",
       " -7522606408589.614)"
      ]
     },
     "execution_count": 53,
     "metadata": {},
     "output_type": "execute_result"
    }
   ],
   "source": [
    "param_test1 = {\n",
    " 'max_depth': list(range(3,10,2)),\n",
    " 'min_child_weight':list(range(1,6,2))\n",
    "}\n",
    "gsearch1 = GridSearchCV(estimator = XGBRegressor( learning_rate =0.05, n_estimators=242, max_depth=8,\n",
    " min_child_weight=1, gamma=0, subsample=0.7, colsample_bytree=0.7,\n",
    " objective='reg:linear', nthread=4, scale_pos_weight=1, seed=27), \n",
    " param_grid = param_test1, scoring='neg_mean_squared_error',n_jobs=4,iid=False, cv=5)\n",
    "gsearch1.fit(X_train,Y_train)\n",
    "gsearch1.grid_scores_, gsearch1.best_params_, gsearch1.best_score_"
   ]
  },
  {
   "cell_type": "code",
   "execution_count": 56,
   "metadata": {
    "collapsed": false
   },
   "outputs": [
    {
     "data": {
      "text/plain": [
       "([mean: -7558862111419.89844, std: 1521363839547.54346, params: {'max_depth': 6, 'min_child_weight': 2},\n",
       "  mean: -7580939678561.29492, std: 1589649885149.69360, params: {'max_depth': 6, 'min_child_weight': 3},\n",
       "  mean: -7587624392629.32031, std: 1495890716512.17798, params: {'max_depth': 6, 'min_child_weight': 4},\n",
       "  mean: -7539702150563.04102, std: 1478939000111.84790, params: {'max_depth': 7, 'min_child_weight': 2},\n",
       "  mean: -7522606408589.61426, std: 1518660789097.44629, params: {'max_depth': 7, 'min_child_weight': 3},\n",
       "  mean: -7541581320353.71875, std: 1559608392188.98682, params: {'max_depth': 7, 'min_child_weight': 4},\n",
       "  mean: -7630224054467.95605, std: 1437583959125.31860, params: {'max_depth': 8, 'min_child_weight': 2},\n",
       "  mean: -7564159429076.38086, std: 1452630972815.01099, params: {'max_depth': 8, 'min_child_weight': 3},\n",
       "  mean: -7593971225711.42188, std: 1444481416103.58398, params: {'max_depth': 8, 'min_child_weight': 4}],\n",
       " {'max_depth': 7, 'min_child_weight': 3},\n",
       " -7522606408589.614)"
      ]
     },
     "execution_count": 56,
     "metadata": {},
     "output_type": "execute_result"
    }
   ],
   "source": [
    "param_test2 = {\n",
    " 'max_depth': [6,7,8],\n",
    " 'min_child_weight':[2,3,4]\n",
    "}\n",
    "gsearch2 = GridSearchCV(estimator = XGBRegressor( learning_rate =0.05, n_estimators=242, max_depth=8,\n",
    " min_child_weight=1, gamma=0, subsample=0.7, colsample_bytree=0.7,\n",
    " objective='reg:linear', nthread=4, scale_pos_weight=1, seed=27), \n",
    " param_grid = param_test2, scoring='neg_mean_squared_error',n_jobs=4,iid=False, cv=5)\n",
    "gsearch2.fit(X_train,Y_train)\n",
    "gsearch2.grid_scores_, gsearch2.best_params_, gsearch2.best_score_"
   ]
  },
  {
   "cell_type": "markdown",
   "metadata": {},
   "source": [
    "## Tune gamma"
   ]
  },
  {
   "cell_type": "code",
   "execution_count": 58,
   "metadata": {
    "collapsed": false
   },
   "outputs": [
    {
     "data": {
      "text/plain": [
       "([mean: -7522606408589.61426, std: 1518660789097.44629, params: {'gamma': 0.0},\n",
       "  mean: -7522606408589.61426, std: 1518660789097.44629, params: {'gamma': 0.1},\n",
       "  mean: -7522606408589.61426, std: 1518660789097.44629, params: {'gamma': 0.2},\n",
       "  mean: -7522606408589.61426, std: 1518660789097.44629, params: {'gamma': 0.3},\n",
       "  mean: -7522606408589.61426, std: 1518660789097.44629, params: {'gamma': 0.4},\n",
       "  mean: -7522606408589.61426, std: 1518660789097.44629, params: {'gamma': 0.5},\n",
       "  mean: -7522606408589.61426, std: 1518660789097.44629, params: {'gamma': 0.6},\n",
       "  mean: -7522606408589.61426, std: 1518660789097.44629, params: {'gamma': 0.7}],\n",
       " {'gamma': 0.0},\n",
       " -7522606408589.614)"
      ]
     },
     "execution_count": 58,
     "metadata": {},
     "output_type": "execute_result"
    }
   ],
   "source": [
    "param_test3 = {\n",
    "    'gamma':[i/10.0 for i in range(0,8)]\n",
    "}\n",
    "gsearch3 = GridSearchCV(estimator = XGBRegressor( learning_rate =0.05, n_estimators=242, max_depth=7,\n",
    " min_child_weight=3, gamma=0, subsample=0.7, colsample_bytree=0.7,\n",
    " objective='reg:linear', nthread=4, scale_pos_weight=1, seed=27), \n",
    " param_grid = param_test3, scoring='neg_mean_squared_error',n_jobs=4,iid=False, cv=5)\n",
    "gsearch3.fit(X_train,Y_train)\n",
    "gsearch3.grid_scores_, gsearch3.best_params_, gsearch3.best_score_"
   ]
  },
  {
   "cell_type": "markdown",
   "metadata": {},
   "source": [
    "## Tune subsample and colsample_bytree"
   ]
  },
  {
   "cell_type": "code",
   "execution_count": 59,
   "metadata": {
    "collapsed": false
   },
   "outputs": [
    {
     "data": {
      "text/plain": [
       "([mean: -7457834064494.81738, std: 1362752547611.50562, params: {'colsample_bytree': 0.6, 'subsample': 0.6},\n",
       "  mean: -7497160273164.74023, std: 1352561064335.85474, params: {'colsample_bytree': 0.6, 'subsample': 0.7},\n",
       "  mean: -7513928923392.65918, std: 1473742580681.12451, params: {'colsample_bytree': 0.6, 'subsample': 0.8},\n",
       "  mean: -7509908645728.12012, std: 1375577888630.25537, params: {'colsample_bytree': 0.6, 'subsample': 0.9},\n",
       "  mean: -7527631072539.17480, std: 1504529533240.50293, params: {'colsample_bytree': 0.7, 'subsample': 0.6},\n",
       "  mean: -7522606408589.61426, std: 1518660789097.44629, params: {'colsample_bytree': 0.7, 'subsample': 0.7},\n",
       "  mean: -7533432580018.53613, std: 1532141395559.54614, params: {'colsample_bytree': 0.7, 'subsample': 0.8},\n",
       "  mean: -7514577935567.58008, std: 1537392940063.49097, params: {'colsample_bytree': 0.7, 'subsample': 0.9},\n",
       "  mean: -7464533616028.06543, std: 1592242675357.73413, params: {'colsample_bytree': 0.8, 'subsample': 0.6},\n",
       "  mean: -7495338212197.31445, std: 1577044315126.67261, params: {'colsample_bytree': 0.8, 'subsample': 0.7},\n",
       "  mean: -7580578214188.75195, std: 1552611964633.30786, params: {'colsample_bytree': 0.8, 'subsample': 0.8},\n",
       "  mean: -7579326848399.03418, std: 1539288383952.44214, params: {'colsample_bytree': 0.8, 'subsample': 0.9},\n",
       "  mean: -7528754810856.50781, std: 1496107146072.84131, params: {'colsample_bytree': 0.9, 'subsample': 0.6},\n",
       "  mean: -7543012960789.69336, std: 1613243503514.17407, params: {'colsample_bytree': 0.9, 'subsample': 0.7},\n",
       "  mean: -7605234597463.06836, std: 1685170865833.84033, params: {'colsample_bytree': 0.9, 'subsample': 0.8},\n",
       "  mean: -7555518992966.08008, std: 1627543473099.71753, params: {'colsample_bytree': 0.9, 'subsample': 0.9}],\n",
       " {'colsample_bytree': 0.6, 'subsample': 0.6},\n",
       " -7457834064494.817)"
      ]
     },
     "execution_count": 59,
     "metadata": {},
     "output_type": "execute_result"
    }
   ],
   "source": [
    "param_test4 = {\n",
    " 'subsample':[i/10.0 for i in range(6,10)],\n",
    " 'colsample_bytree':[i/10.0 for i in range(6,10)]\n",
    "}\n",
    "gsearch4 = GridSearchCV(estimator = XGBRegressor( learning_rate =0.05, n_estimators=242, max_depth=7,\n",
    " min_child_weight=3, gamma=0, subsample=0.7, colsample_bytree=0.7,\n",
    " objective='reg:linear', nthread=4, scale_pos_weight=1, seed=27), \n",
    " param_grid = param_test4, scoring='neg_mean_squared_error',n_jobs=4,iid=False, cv=5)\n",
    "gsearch4.fit(X_train,Y_train)\n",
    "gsearch4.grid_scores_, gsearch4.best_params_, gsearch4.best_score_"
   ]
  },
  {
   "cell_type": "code",
   "execution_count": 60,
   "metadata": {
    "collapsed": false
   },
   "outputs": [
    {
     "data": {
      "text/plain": [
       "([mean: -7539074758880.35352, std: 1468777995344.01855, params: {'colsample_bytree': 0.55, 'subsample': 0.55},\n",
       "  mean: -7492170797736.55762, std: 1378560109677.54980, params: {'colsample_bytree': 0.55, 'subsample': 0.6},\n",
       "  mean: -7449238327660.70312, std: 1459739040781.73511, params: {'colsample_bytree': 0.55, 'subsample': 0.65},\n",
       "  mean: -7492994247152.66602, std: 1412793530766.41675, params: {'colsample_bytree': 0.6, 'subsample': 0.55},\n",
       "  mean: -7457834064494.81738, std: 1362752547611.50562, params: {'colsample_bytree': 0.6, 'subsample': 0.6},\n",
       "  mean: -7427356279758.30273, std: 1406735052118.79370, params: {'colsample_bytree': 0.6, 'subsample': 0.65},\n",
       "  mean: -7475378818413.48438, std: 1430395511619.14087, params: {'colsample_bytree': 0.65, 'subsample': 0.55},\n",
       "  mean: -7518857990226.75586, std: 1388342813527.86963, params: {'colsample_bytree': 0.65, 'subsample': 0.6},\n",
       "  mean: -7546918433275.73730, std: 1443118334099.31934, params: {'colsample_bytree': 0.65, 'subsample': 0.65}],\n",
       " {'colsample_bytree': 0.6, 'subsample': 0.65},\n",
       " -7427356279758.303)"
      ]
     },
     "execution_count": 60,
     "metadata": {},
     "output_type": "execute_result"
    }
   ],
   "source": [
    "param_test5 = {\n",
    " 'subsample':[i/100.0 for i in range(55,70,5)],\n",
    " 'colsample_bytree':[i/100.0 for i in range(55,70,5)]\n",
    "}\n",
    "gsearch5 = GridSearchCV(estimator = XGBRegressor( learning_rate =0.05, n_estimators=242, max_depth=7,\n",
    " min_child_weight=3, gamma=0, subsample=0.7, colsample_bytree=0.7,\n",
    " objective='reg:linear', nthread=4, scale_pos_weight=1, seed=27), \n",
    " param_grid = param_test5, scoring='neg_mean_squared_error',n_jobs=4,iid=False, cv=5)\n",
    "gsearch5.fit(X_train,Y_train)\n",
    "gsearch5.grid_scores_, gsearch5.best_params_, gsearch5.best_score_"
   ]
  },
  {
   "cell_type": "markdown",
   "metadata": {},
   "source": [
    "## Tuning Regularization Parameters"
   ]
  },
  {
   "cell_type": "code",
   "execution_count": 63,
   "metadata": {
    "collapsed": false
   },
   "outputs": [
    {
     "data": {
      "text/plain": [
       "([mean: -7513389679623.19727, std: 1399673170371.69116, params: {'reg_alpha': 0.01, 'reg_lambda': 0.01},\n",
       "  mean: -7582851223126.97461, std: 1406872851975.17920, params: {'reg_alpha': 0.01, 'reg_lambda': 0.1},\n",
       "  mean: -7427356256010.65625, std: 1406735065876.91089, params: {'reg_alpha': 0.01, 'reg_lambda': 1},\n",
       "  mean: -7612687987337.97852, std: 1350821945533.87134, params: {'reg_alpha': 0.01, 'reg_lambda': 100},\n",
       "  mean: -7513389699363.08887, std: 1399673172137.66968, params: {'reg_alpha': 0.1, 'reg_lambda': 0.01},\n",
       "  mean: -7582851215233.85156, std: 1406872821676.61499, params: {'reg_alpha': 0.1, 'reg_lambda': 0.1},\n",
       "  mean: -7427356282668.80664, std: 1406735054375.45581, params: {'reg_alpha': 0.1, 'reg_lambda': 1},\n",
       "  mean: -7612687988642.97168, std: 1350821945766.57812, params: {'reg_alpha': 0.1, 'reg_lambda': 100},\n",
       "  mean: -7513389717951.01758, std: 1399673194584.03320, params: {'reg_alpha': 1, 'reg_lambda': 0.01},\n",
       "  mean: -7582851209002.72852, std: 1406872824835.60059, params: {'reg_alpha': 1, 'reg_lambda': 0.1},\n",
       "  mean: -7427356282856.06250, std: 1406735056447.66016, params: {'reg_alpha': 1, 'reg_lambda': 1},\n",
       "  mean: -7612687948187.77539, std: 1350821912771.68530, params: {'reg_alpha': 1, 'reg_lambda': 100},\n",
       "  mean: -7511469737337.58887, std: 1396144759290.39355, params: {'reg_alpha': 100, 'reg_lambda': 0.01},\n",
       "  mean: -7582850274854.15430, std: 1406872361485.97412, params: {'reg_alpha': 100, 'reg_lambda': 0.1},\n",
       "  mean: -7415589772095.47949, std: 1403050779321.86279, params: {'reg_alpha': 100, 'reg_lambda': 1},\n",
       "  mean: -7612688114356.71582, std: 1350821824524.98340, params: {'reg_alpha': 100, 'reg_lambda': 100}],\n",
       " {'reg_alpha': 100, 'reg_lambda': 1},\n",
       " -7415589772095.4795)"
      ]
     },
     "execution_count": 63,
     "metadata": {},
     "output_type": "execute_result"
    }
   ],
   "source": [
    "param_test6 = {\n",
    "    'reg_alpha':[1e-2, 0.1, 1, 100],\n",
    "    'reg_lambda':[1e-2, 0.1, 1, 100]\n",
    "}\n",
    "gsearch6 = GridSearchCV(estimator = XGBRegressor( learning_rate =0.05, n_estimators=242, max_depth=7,\n",
    " min_child_weight=3, gamma=0, subsample=0.65, colsample_bytree=0.6,\n",
    " objective='reg:linear', nthread=4, scale_pos_weight=1, seed=27), \n",
    " param_grid = param_test6, scoring='neg_mean_squared_error',n_jobs=4,iid=False, cv=5)\n",
    "gsearch6.fit(X_train,Y_train)\n",
    "gsearch6.grid_scores_, gsearch6.best_params_, gsearch6.best_score_"
   ]
  },
  {
   "cell_type": "code",
   "execution_count": 65,
   "metadata": {
    "collapsed": false
   },
   "outputs": [
    {
     "name": "stdout",
     "output_type": "stream",
     "text": [
      "[0]\ttrain-rmse:8.50267e+06\ttest-rmse:8.50333e+06\n",
      "[50]\ttrain-rmse:5.6377e+06\ttest-rmse:5.73041e+06\n",
      "[100]\ttrain-rmse:3.97922e+06\ttest-rmse:4.18756e+06\n",
      "[150]\ttrain-rmse:3.0562e+06\ttest-rmse:3.38752e+06\n",
      "[200]\ttrain-rmse:2.56102e+06\ttest-rmse:3.00281e+06\n",
      "[250]\ttrain-rmse:2.29164e+06\ttest-rmse:2.82236e+06\n",
      "[300]\ttrain-rmse:2.13895e+06\ttest-rmse:2.73616e+06\n",
      "[350]\ttrain-rmse:2.04446e+06\ttest-rmse:2.69113e+06\n",
      "[400]\ttrain-rmse:1.97892e+06\ttest-rmse:2.66476e+06\n",
      "[450]\ttrain-rmse:1.93011e+06\ttest-rmse:2.64852e+06\n",
      "[500]\ttrain-rmse:1.89094e+06\ttest-rmse:2.63767e+06\n",
      "[550]\ttrain-rmse:1.8573e+06\ttest-rmse:2.62917e+06\n",
      "[600]\ttrain-rmse:1.82733e+06\ttest-rmse:2.62171e+06\n",
      "[650]\ttrain-rmse:1.80005e+06\ttest-rmse:2.61619e+06\n",
      "[700]\ttrain-rmse:1.77658e+06\ttest-rmse:2.6125e+06\n",
      "[750]\ttrain-rmse:1.75443e+06\ttest-rmse:2.60876e+06\n",
      "[800]\ttrain-rmse:1.73205e+06\ttest-rmse:2.60599e+06\n",
      "[850]\ttrain-rmse:1.71177e+06\ttest-rmse:2.60317e+06\n",
      "[900]\ttrain-rmse:1.69177e+06\ttest-rmse:2.60123e+06\n",
      "[950]\ttrain-rmse:1.67357e+06\ttest-rmse:2.59974e+06\n",
      "[1000]\ttrain-rmse:1.65603e+06\ttest-rmse:2.59805e+06\n",
      "[1050]\ttrain-rmse:1.63896e+06\ttest-rmse:2.59707e+06\n",
      "[1100]\ttrain-rmse:1.6218e+06\ttest-rmse:2.59625e+06\n",
      "[1150]\ttrain-rmse:1.60534e+06\ttest-rmse:2.59572e+06\n",
      "[1200]\ttrain-rmse:1.5894e+06\ttest-rmse:2.59509e+06\n",
      "[1250]\ttrain-rmse:1.57471e+06\ttest-rmse:2.59467e+06\n",
      "[1300]\ttrain-rmse:1.55966e+06\ttest-rmse:2.59455e+06\n",
      "[1350]\ttrain-rmse:1.54495e+06\ttest-rmse:2.59399e+06\n",
      "[1400]\ttrain-rmse:1.53119e+06\ttest-rmse:2.59369e+06\n",
      "[1450]\ttrain-rmse:1.51762e+06\ttest-rmse:2.59352e+06\n",
      "1447\n"
     ]
    },
    {
     "data": {
      "image/png": "[encoded data removed]",
      "text/plain": [
       "<matplotlib.figure.Figure at 0x115df5a20>"
      ]
     },
     "metadata": {},
     "output_type": "display_data"
    }
   ],
   "source": [
    "xgb2 = XGBRegressor(\n",
    " learning_rate =0.01,\n",
    " n_estimators=5000,\n",
    " max_depth=7,\n",
    " min_child_weight=3,\n",
    " gamma=0,\n",
    " subsample=0.65,\n",
    " colsample_bytree=0.6,\n",
    " nthread=4,\n",
    " scale_pos_weight=1,\n",
    " reg_alpha=100,\n",
    " reg_lambda=1,\n",
    " seed=27)\n",
    "modelfit(xgb2, X_train, Y_train)"
   ]
  },
  {
   "cell_type": "code",
   "execution_count": 66,
   "metadata": {
    "collapsed": false
   },
   "outputs": [],
   "source": [
    "dtrain = xgb.DMatrix(X_train, Y_train)\n",
    "dtest = xgb.DMatrix(X_test)"
   ]
  },
  {
   "cell_type": "code",
   "execution_count": 67,
   "metadata": {
    "collapsed": false
   },
   "outputs": [
    {
     "data": {
      "text/plain": [
       "1447"
      ]
     },
     "execution_count": 67,
     "metadata": {},
     "output_type": "execute_result"
    }
   ],
   "source": [
    "#num_boost_rounds = len(cv_output)\n",
    "num_boost_rounds"
   ]
  },
  {
   "cell_type": "code",
   "execution_count": 69,
   "metadata": {
    "collapsed": false
   },
   "outputs": [
    {
     "data": {
      "image/png": "[encoded data removed]",
      "text/plain": [
       "<matplotlib.figure.Figure at 0x11563a048>"
      ]
     },
     "metadata": {},
     "output_type": "display_data"
    }
   ],
   "source": [
    "model = xgb.train(xgb2.get_xgb_params(), dtrain, num_boost_round= num_boost_rounds)\n",
    "\n",
    "# plot the important features #\n",
    "fig, ax = plt.subplots(figsize=(12,18))\n",
    "xgb.plot_importance(model, max_num_features=50, height=0.8, ax=ax)\n",
    "plt.show()"
   ]
  },
  {
   "cell_type": "code",
   "execution_count": 70,
   "metadata": {
    "collapsed": false
   },
   "outputs": [],
   "source": [
    "preds = model.predict(dtest)"
   ]
  },
  {
   "cell_type": "code",
   "execution_count": 71,
   "metadata": {
    "collapsed": false
   },
   "outputs": [
    {
     "data": {
      "text/html": [
       "<div>\n",
       "<table border=\"1\" class=\"dataframe\">\n",
       "  <thead>\n",
       "    <tr style=\"text-align: right;\">\n",
       "      <th></th>\n",
       "      <th>id</th>\n",
       "      <th>price_doc</th>\n",
       "    </tr>\n",
       "  </thead>\n",
       "  <tbody>\n",
       "    <tr>\n",
       "      <th>0</th>\n",
       "      <td>30474</td>\n",
       "      <td>5533859.0</td>\n",
       "    </tr>\n",
       "    <tr>\n",
       "      <th>1</th>\n",
       "      <td>30475</td>\n",
       "      <td>8422796.0</td>\n",
       "    </tr>\n",
       "    <tr>\n",
       "      <th>2</th>\n",
       "      <td>30476</td>\n",
       "      <td>5589342.0</td>\n",
       "    </tr>\n",
       "    <tr>\n",
       "      <th>3</th>\n",
       "      <td>30477</td>\n",
       "      <td>5966715.0</td>\n",
       "    </tr>\n",
       "    <tr>\n",
       "      <th>4</th>\n",
       "      <td>30478</td>\n",
       "      <td>5217587.5</td>\n",
       "    </tr>\n",
       "  </tbody>\n",
       "</table>\n",
       "</div>"
      ],
      "text/plain": [
       "      id  price_doc\n",
       "0  30474  5533859.0\n",
       "1  30475  8422796.0\n",
       "2  30476  5589342.0\n",
       "3  30477  5966715.0\n",
       "4  30478  5217587.5"
      ]
     },
     "execution_count": 71,
     "metadata": {},
     "output_type": "execute_result"
    }
   ],
   "source": [
    "output = pd.DataFrame({'id': id_test, 'price_doc': preds})\n",
    "output.head()"
   ]
  },
  {
   "cell_type": "code",
   "execution_count": 72,
   "metadata": {
    "collapsed": false
   },
   "outputs": [],
   "source": [
    "output.to_csv('xgb_v6.csv', index=False)"
   ]
  },
  {
   "cell_type": "code",
   "execution_count": null,
   "metadata": {
    "collapsed": true
   },
   "outputs": [],
   "source": [
    "#75 31964\n",
    "#100 31912 \n",
    "#120 31897 *\n",
    "#217 ?????"
   ]
  }
 ],
 "metadata": {
  "kernelspec": {
   "display_name": "Python 3",
   "language": "python",
   "name": "python3"
  },
  "language_info": {
   "codemirror_mode": {
    "name": "ipython",
    "version": 3
   },
   "file_extension": ".py",
   "mimetype": "text/x-python",
   "name": "python",
   "nbconvert_exporter": "python",
   "pygments_lexer": "ipython3",
   "version": "3.6.0"
  }
 },
 "nbformat": 4,
 "nbformat_minor": 2
}
